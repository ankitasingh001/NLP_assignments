{
 "cells": [
  {
   "cell_type": "code",
   "execution_count": 124,
   "metadata": {},
   "outputs": [],
   "source": [
    "\n",
    "import numpy as np\n",
    "import pandas as pd\n",
    "import matplotlib.pyplot as plt\n",
    "import tensorflow as tf\n",
    "from tensorflow.python.keras.layers import LSTM, Embedding, Dense, TimeDistributed, Dropout, Bidirectional,Input,Activation\n",
    "from tensorflow.python.keras.models import Model,Sequential,InputLayer\n",
    "from tensorflow.python.keras.preprocessing.sequence import pad_sequences\n",
    "import nltk\n",
    "import tensorflow.python.keras.backend \n",
    "from nltk.corpus import conll2000\n",
    "from tensorflow.python.keras.utils.all_utils import to_categorical\n",
    "from keras_contrib.layers import CRF\n",
    "from keras_contrib.losses import crf_loss,crf_losses\n",
    "from keras_contrib.metrics import crf_accuracy\n",
    "from keras.optimizers import Adam\n",
    "from itertools import chain\n",
    "from gensim.models import Word2Vec\n",
    "from collections import defaultdict\n",
    "from nltk import ConfusionMatrix\n",
    "import pickle    \n",
    "from sklearn.metrics import confusion_matrix\n",
    "import seaborn as sns"
   ]
  },
  {
   "cell_type": "code",
   "execution_count": 2,
   "metadata": {},
   "outputs": [],
   "source": [
    "'''\n",
    "Hyper-parameter declarations\n",
    "'''\n",
    "BATCH_SIZE = 32\n",
    "EPOCHS = 10\n",
    "MAX_LEN = 75\n",
    "EMBEDDING = 128\n",
    "MAX_LEN = max(len(x) for x in conll2000.sents())\n",
    "TAG_LIST = ['B','O','I']\n",
    "TEST_TRAIN_DF_SPLIT_FACTOR = 8937 \n",
    "# This is equal to 220663 lines of train as given in the assignment.\n",
    "# We converted it into sentence format and again did the splitting for ease of processing"
   ]
  },
  {
   "cell_type": "code",
   "execution_count": 3,
   "metadata": {},
   "outputs": [],
   "source": [
    "class Bi_lstm_metrics():\n",
    "    \n",
    "    def __init__(self, test_actual_tags, test_predicted_tags):\n",
    "        '''\n",
    "        The test_actual_tags contains actual tags for the above setences.\n",
    "        The test_predicted_tags contains predicted tags for the test data.\n",
    "        '''\n",
    "        self.counter_dict = defaultdict(lambda: defaultdict(lambda:0))\n",
    "        self.test_actual_tags = test_actual_tags\n",
    "        self.test_predicted_tags = test_predicted_tags\n",
    "        self.tag_metrics = defaultdict(lambda: defaultdict(lambda:0))\n",
    "            \n",
    "    def calc_tag_metrics(self):\n",
    "        '''\n",
    "        Calculate the per-POS accuracy for all the tags in the tag-set\n",
    "        '''\n",
    "        counter_dict = defaultdict(lambda: defaultdict(lambda:0))\n",
    "        \n",
    "        for i in range(len(self.test_actual_tags)):\n",
    "            \n",
    "            if(self.test_actual_tags[i] == self.test_predicted_tags[i]):\n",
    "                counter_dict[self.test_actual_tags[i]]['TP'] += 1\n",
    "            else:\n",
    "                counter_dict[self.test_actual_tags[i]]['FN']    += 1\n",
    "                counter_dict[self.test_predicted_tags[i]]['FP'] += 1\n",
    "        \n",
    "        \n",
    "        for tag in counter_dict.keys():\n",
    "            try:\n",
    "                self.tag_metrics[tag]['Precision'] = counter_dict[tag]['TP']/(counter_dict[tag]['TP']+counter_dict[tag]['FP'])\n",
    "                self.tag_metrics[tag]['Recall'] = counter_dict[tag]['TP']/(counter_dict[tag]['TP']+counter_dict[tag]['FN'])\n",
    "                self.tag_metrics[tag]['F1_score'] = 2*(self.tag_metrics[tag]['Precision']*self.tag_metrics[tag]['Recall'])/(self.tag_metrics[tag]['Precision']+self.tag_metrics[tag]['Recall'])\n",
    "\n",
    "            except ZeroDivisionError:\n",
    "                continue               \n",
    "        self.counter_dict =  counter_dict\n",
    "        \n",
    "    def generate_confusion_matrix(self):\n",
    "        '''\n",
    "        Generate confusion matrix for the particular fold\n",
    "        '''\n",
    "        CM = ConfusionMatrix(self.test_actual_tags ,self.test_predicted_tags)\n",
    "        print(CM)\n",
    "        \n",
    "    def accuracy(self):\n",
    "        '''\n",
    "        Calculate average accuracy score\n",
    "        '''\n",
    "        TP =0\n",
    "        FP =0\n",
    "        for tag in self.counter_dict.keys():\n",
    "            if (tag !='PAD' and tag !='O'):\n",
    "                TP += self.counter_dict[tag]['TP']\n",
    "                FP += self.counter_dict[tag]['FP']\n",
    "        \n",
    "        return TP/(TP+FP)\n",
    "        \n",
    "        \n",
    "    def print_sample(self):\n",
    "        '''\n",
    "        Prints a sample of n = 5 actual and predicted tagged sentences for reference\n",
    "        '''\n",
    "        for i in range(5):\n",
    "            print(\"Actual :\",self.test_actual_tags[i])\n",
    "            print(\"Predicted :\",self.test_predicted_tags[i])\n",
    "        \n",
    "    def get_tag_metrics(self):\n",
    "        '''\n",
    "        Prints the per POS precision,recall and F1 score of predicted tags\n",
    "        '''\n",
    "        \n",
    "        print (\"{:<10} {:<10} {:<10} {:<10}\".format('TAG', 'PRECISION', 'RECALL','F1_SCORE'))\n",
    "        \n",
    "        for key in self.tag_metrics.keys():\n",
    "            precision = str(round(self.tag_metrics[key]['Precision'], 2))\n",
    "            recall    = str(round(self.tag_metrics[key]['Recall'], 2))\n",
    "            F1_score  = str(round(self.tag_metrics[key]['F1_score'], 2))\n",
    "            print (\"{:<10} {:<10} {:<10} {:<10} \".format(key, precision,recall,F1_score))"
   ]
  },
  {
   "cell_type": "code",
   "execution_count": 4,
   "metadata": {},
   "outputs": [],
   "source": [
    "'''\n",
    "Reading data into data frame\n",
    "'''\n",
    "df_train = pd.read_csv('train.txt', sep=\" \",header=None,skip_blank_lines=False, names=['word','POS_tag','Chunk_tag'])\n",
    "df_test = pd.read_csv('test.txt', sep=\" \",header=None,skip_blank_lines=False, names=['word','POS_tag','Chunk_tag'])"
   ]
  },
  {
   "cell_type": "code",
   "execution_count": 5,
   "metadata": {},
   "outputs": [],
   "source": [
    "'''\n",
    "Initial pre-processing\n",
    "'''\n",
    "df_train['Chunk_tag'] = df_train['Chunk_tag'].str.split(\"-\", n = 1, expand = True) \n",
    "df_test['Chunk_tag']  = df_test['Chunk_tag'].str.split(\"-\", n = 1, expand = True) "
   ]
  },
  {
   "cell_type": "code",
   "execution_count": 6,
   "metadata": {},
   "outputs": [],
   "source": [
    "'''\n",
    "Dividing the test and train dataframes to a list of dataframes for each sentence \n",
    "'''\n",
    "idx = [-1]+ df_train.index[df_train.isnull().all(1)].tolist() + [df_train.shape[0]]\n",
    "list_of_train_dfs = [df_train.iloc[idx[n]+1:idx[n+1]] for n in range(len(idx)-1)]\n",
    "\n",
    "idx = [-1]+ df_test.index[df_test.isnull().all(1)].tolist() + [df_test.shape[0]]\n",
    "list_of_test_dfs = [df_test.iloc[idx[n]+1:idx[n+1]] for n in range(len(idx)-1)]"
   ]
  },
  {
   "cell_type": "code",
   "execution_count": 7,
   "metadata": {},
   "outputs": [],
   "source": [
    "'''\n",
    "Creating a list of dataframes to be fed for training.\n",
    "Each dataframe contains one sentence split into words row-wise.\n",
    "'''\n",
    "df_full_data = df_train.append(df_test, ignore_index=True)\n",
    "list_of_dfs = []\n",
    "list_of_dfs.extend(list_of_train_dfs)\n",
    "list_of_dfs.extend(list_of_test_dfs)"
   ]
  },
  {
   "cell_type": "code",
   "execution_count": null,
   "metadata": {},
   "outputs": [],
   "source": []
  },
  {
   "cell_type": "code",
   "execution_count": 8,
   "metadata": {},
   "outputs": [
    {
     "name": "stdout",
     "output_type": "stream",
     "text": [
      "Number of words in the dataset:  45\n"
     ]
    }
   ],
   "source": [
    "'''\n",
    "Calculating number of words in the dataset\n",
    "'''\n",
    "n_words = len(set(df_full_data[\"POS_tag\"].values))\n",
    "print(\"Number of words in the dataset: \", n_words)"
   ]
  },
  {
   "cell_type": "code",
   "execution_count": 9,
   "metadata": {},
   "outputs": [],
   "source": [
    "'''\n",
    "Creating proper encodings for words/tags.\n",
    "Initially some testing was done taking words features only, then we switched to POS tags\n",
    "So word2idx essentially represents POSTags2idx mappings.\n",
    "tag2idx refers to mapping of 'B','I','O' and 'PAD' tags\n",
    "'''\n",
    "word2idx = {w: i + 2 for i, w in enumerate(set(df_full_data['POS_tag']))} #Encoded POS tag\n",
    "word2idx[\"UNK\"] = 1 # Unknown tags\n",
    "word2idx[\"PAD\"] = 0 # Paddings\n",
    "idx2word = {i: w for w, i in word2idx.items()} # index to POS tag mapping\n",
    "# The first entry is reserved for PAD\n",
    "tag2idx = {t: i+1 for i, t in enumerate(TAG_LIST)}\n",
    "tag2idx[\"PAD\"] = 0 \n",
    "idx2tag = {i: w for w, i in tag2idx.items()}\n"
   ]
  },
  {
   "cell_type": "code",
   "execution_count": 11,
   "metadata": {},
   "outputs": [],
   "source": [
    "'''\n",
    "Apply embeddings and padding to data\n",
    "'''\n",
    "# Convert each sentence from list of Token to list of pos_index\n",
    "X = [[word2idx[w] for w in df['POS_tag']] for df in list_of_dfs]\n",
    "# Padding each tagged sentence to have the same lenght\n",
    "X = pad_sequences(maxlen=MAX_LEN, sequences=X, padding=\"post\", value=word2idx[\"PAD\"])# Convert Tag/Label to tag_index\n",
    "y = [[tag2idx[t] for t in df['Chunk_tag']] for df in list_of_dfs]\n",
    "# Padding each tag sentence to have the same lenght\n",
    "y = pad_sequences(maxlen=MAX_LEN, sequences=y, padding=\"post\", value=tag2idx[\"PAD\"])\n",
    "# One-Hot encode\n",
    "y = [to_categorical(i, num_classes=(len(TAG_LIST)+1)) for i in y]  "
   ]
  },
  {
   "cell_type": "code",
   "execution_count": 15,
   "metadata": {},
   "outputs": [
    {
     "name": "stdout",
     "output_type": "stream",
     "text": [
      "Model: \"sequential\"\n",
      "_________________________________________________________________\n",
      "Layer (type)                 Output Shape              Param #   \n",
      "=================================================================\n",
      "embedding (Embedding)        (None, 78, 128)           6016      \n",
      "_________________________________________________________________\n",
      "bidirectional (Bidirectional (None, 78, 256)           263168    \n",
      "_________________________________________________________________\n",
      "bidirectional_1 (Bidirection (None, 78, 200)           285600    \n",
      "_________________________________________________________________\n",
      "time_distributed (TimeDistri (None, 78, 100)           20100     \n",
      "_________________________________________________________________\n",
      "time_distributed_1 (TimeDist (None, 78, 4)             404       \n",
      "=================================================================\n",
      "Total params: 575,288\n",
      "Trainable params: 575,288\n",
      "Non-trainable params: 0\n",
      "_________________________________________________________________\n"
     ]
    }
   ],
   "source": [
    "'''\n",
    "Building bi-LSTM CRF model\n",
    "'''\n",
    "# Model definition\n",
    "\n",
    "model = Sequential()\n",
    "model.add(InputLayer(input_shape=(MAX_LEN,)))  \n",
    "model.add(Embedding(input_dim=n_words+2, output_dim=EMBEDDING,input_length=MAX_LEN, mask_zero=True) )\n",
    "model.add(Bidirectional(LSTM(units=128, return_sequences=True,\n",
    "                           recurrent_dropout=0.1))) \n",
    "model.add(Bidirectional(LSTM(units=100, return_sequences=True,\n",
    "                           recurrent_dropout=0.1))) \n",
    "#### BiLSTM with return sequence true\n",
    "model.add(TimeDistributed(Dense(100, activation=\"relu\")))  #### Output Layer\n",
    "# model.add(CRF(len(TAG_LIST)+1))\n",
    "#model.add(CRF(4))\n",
    "model.add(TimeDistributed(Dense(4, activation=\"softmax\"))) \n",
    "#model.compile(optimizer=\"rmsprop\", loss=crf_loss, metrics=crf_accuracy)\n",
    "\n",
    "model.compile(loss= \"categorical_crossentropy\" ,optimizer=Adam(0.001),metrics=['accuracy'])\n",
    "\n",
    "\n",
    "model.summary()\n"
   ]
  },
  {
   "cell_type": "code",
   "execution_count": 16,
   "metadata": {},
   "outputs": [],
   "source": [
    "'''\n",
    "Splitting Train and test into data and chunk tags\n",
    "\n",
    "'''\n",
    "\n",
    "X_train = X[:TEST_TRAIN_DF_SPLIT_FACTOR]  \n",
    "X_test  = X[TEST_TRAIN_DF_SPLIT_FACTOR:]\n",
    "\n",
    "Y_train = y[:TEST_TRAIN_DF_SPLIT_FACTOR]\n",
    "Y_test  = y[TEST_TRAIN_DF_SPLIT_FACTOR:]"
   ]
  },
  {
   "cell_type": "code",
   "execution_count": 19,
   "metadata": {},
   "outputs": [
    {
     "name": "stdout",
     "output_type": "stream",
     "text": [
      "Epoch 1/10\n",
      "196/196 - 80s - loss: 0.1546 - accuracy: 0.7797 - val_loss: 0.0686 - val_accuracy: 0.9246\n",
      "Epoch 2/10\n",
      "196/196 - 81s - loss: 0.0593 - accuracy: 0.9336 - val_loss: 0.0561 - val_accuracy: 0.9415\n",
      "Epoch 3/10\n",
      "196/196 - 79s - loss: 0.0497 - accuracy: 0.9478 - val_loss: 0.0505 - val_accuracy: 0.9493\n",
      "Epoch 4/10\n",
      "196/196 - 80s - loss: 0.0457 - accuracy: 0.9527 - val_loss: 0.0474 - val_accuracy: 0.9515\n",
      "Epoch 5/10\n",
      "196/196 - 86s - loss: 0.0429 - accuracy: 0.9555 - val_loss: 0.0455 - val_accuracy: 0.9533\n",
      "Epoch 6/10\n",
      "196/196 - 82s - loss: 0.0408 - accuracy: 0.9575 - val_loss: 0.0437 - val_accuracy: 0.9564\n",
      "Epoch 7/10\n",
      "196/196 - 88s - loss: 0.0394 - accuracy: 0.9585 - val_loss: 0.0425 - val_accuracy: 0.9564\n",
      "Epoch 8/10\n",
      "196/196 - 82s - loss: 0.0373 - accuracy: 0.9607 - val_loss: 0.0419 - val_accuracy: 0.9576\n",
      "Epoch 9/10\n",
      "196/196 - 82s - loss: 0.0362 - accuracy: 0.9611 - val_loss: 0.0424 - val_accuracy: 0.9569\n",
      "Epoch 10/10\n",
      "196/196 - 87s - loss: 0.0343 - accuracy: 0.9630 - val_loss: 0.0398 - val_accuracy: 0.9593\n"
     ]
    }
   ],
   "source": [
    "'''\n",
    "Training the model\n",
    "'''\n",
    "history = model.fit(X_train, np.array(Y_train), batch_size=BATCH_SIZE,epochs=EPOCHS,validation_split=0.3, verbose=2)"
   ]
  },
  {
   "cell_type": "code",
   "execution_count": 88,
   "metadata": {},
   "outputs": [],
   "source": [
    "'''\n",
    "Predicting the test data \n",
    "'''\n",
    "pred_cat = model.predict(X_test)\n",
    "pred = np.argmax(pred_cat, axis=-1)\n",
    "y_te_true = np.argmax(Y_test, -1)"
   ]
  },
  {
   "cell_type": "code",
   "execution_count": 89,
   "metadata": {},
   "outputs": [],
   "source": [
    "'''\n",
    "Inverse mapping to get actual and predicted tags\n",
    "'''\n",
    "pred_tag = [[idx2tag[i] for i in row] for row in pred]\n",
    "actual_tag = [[idx2tag[i] for i in row] for row in y_te_true] "
   ]
  },
  {
   "cell_type": "code",
   "execution_count": 90,
   "metadata": {},
   "outputs": [
    {
     "name": "stdout",
     "output_type": "stream",
     "text": [
      "TAG        PRECISION  RECALL     F1_SCORE  \n",
      "B          0.97       0.97       0.97       \n",
      "I          0.94       0.96       0.95       \n",
      "O          0.05       0.94       0.1        \n",
      "    |                           P |\n",
      "    |                           A |\n",
      "    |      B      I      O      D |\n",
      "----+-----------------------------+\n",
      "  B | <23024>   780     48      . |\n",
      "  I |    570 <16669>   106      . |\n",
      "  O |    132    219  <5829>     . |\n",
      "PAD |      .      . 109637     <.>|\n",
      "----+-----------------------------+\n",
      "(row = reference; col = test)\n",
      "\n"
     ]
    },
    {
     "data": {
      "text/plain": [
       "95.89070879837658"
      ]
     },
     "execution_count": 90,
     "metadata": {},
     "output_type": "execute_result"
    }
   ],
   "source": [
    "\n",
    "'''\n",
    "Calculating Tag metrics\n",
    "'''\n",
    "metrics = Bi_lstm_metrics(list(chain.from_iterable(actual_tag)),list(chain.from_iterable(pred_tag)))\n",
    "metrics.calc_tag_metrics()\n",
    "metrics.get_tag_metrics()\n",
    "metrics.generate_confusion_matrix()\n",
    "metrics.accuracy()*100\n",
    "\n"
   ]
  },
  {
   "cell_type": "code",
   "execution_count": 122,
   "metadata": {},
   "outputs": [
    {
     "name": "stdout",
     "output_type": "stream",
     "text": [
      "AxesSubplot(0.125,0.125;0.62x0.755)\n"
     ]
    },
    {
     "data": {
      "image/png": "[encoded data removed]",
      "text/plain": [
       "<Figure size 432x288 with 2 Axes>"
      ]
     },
     "metadata": {
      "needs_background": "light"
     },
     "output_type": "display_data"
    }
   ],
   "source": [
    "'''\n",
    "Heap map outpiut\n",
    "'''\n",
    "pred_tag_trimmed =[]\n",
    "for i in range(len(pred_tag)):\n",
    "    k= pred_tag[i][:-1]\n",
    "    pred_tag_trimmed.append(k)\n",
    "\n",
    "cf_matrix = confusion_matrix(list(chain.from_iterable(actual_tag)) ,list(chain.from_iterable(pred_tag)))\n",
    "print(sns.heatmap(cf_matrix/np.sum(cf_matrix),xticklabels=['B', 'I','O'], yticklabels=['B','I','O'], annot=True,fmt='.2%', cmap='Blues'))\n",
    "#print(sns.heatmap(cf_matrix, annot=True,xticklabels=['B', 'I','O'], yticklabels=['B','I','O'],fmt=\"d\", cmap='Blues'))"
   ]
  },
  {
   "cell_type": "code",
   "execution_count": 36,
   "metadata": {},
   "outputs": [],
   "source": [
    "'''\n",
    "Dumping data for error analysis\n",
    "'''\n",
    "pred_tag_dump =[]\n",
    "for pred in pred_tag:\n",
    "    l = pred.insert(0,'O')\n",
    "    pred_tag_dump.append(pred)\n",
    "with open('Bi_LSTM_test_Y_pred.pkl', 'wb') as f:\n",
    "    pickle.dump(pred_tag_dump, f) "
   ]
  },
  {
   "cell_type": "code",
   "execution_count": 40,
   "metadata": {},
   "outputs": [],
   "source": [
    " "
   ]
  }
 ],
 "metadata": {
  "kernelspec": {
   "display_name": "Python 3",
   "language": "python",
   "name": "python3"
  },
  "language_info": {
   "codemirror_mode": {
    "name": "ipython",
    "version": 3
   },
   "file_extension": ".py",
   "mimetype": "text/x-python",
   "name": "python",
   "nbconvert_exporter": "python",
   "pygments_lexer": "ipython3",
   "version": "3.6.9"
  }
 },
 "nbformat": 4,
 "nbformat_minor": 4
}
