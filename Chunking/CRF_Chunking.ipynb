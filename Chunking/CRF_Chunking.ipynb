{
  "nbformat": 4,
  "nbformat_minor": 0,
  "metadata": {
    "kernelspec": {
      "display_name": "Python 3",
      "language": "python",
      "name": "python3"
    },
    "language_info": {
      "codemirror_mode": {
        "name": "ipython",
        "version": 3
      },
      "file_extension": ".py",
      "mimetype": "text/x-python",
      "name": "python",
      "nbconvert_exporter": "python",
      "pygments_lexer": "ipython3",
      "version": "3.7.3"
    },
    "colab": {
      "name": "CRF_ChunkingF.ipynb",
      "provenance": [],
      "collapsed_sections": []
    }
  },
  "cells": [
    {
      "cell_type": "code",
      "metadata": {
        "id": "G51uh3f3Bhz_"
      },
      "source": [
        "import pandas as pd\n",
        "import numpy as np\n",
        "from itertools import chain\n",
        "import nltk\n",
        "import sklearn\n",
        "import scipy.stats\n",
        "from sklearn.metrics import make_scorer\n",
        "from sklearn.model_selection import cross_val_score\n",
        "from sklearn.model_selection import RandomizedSearchCV\n",
        "from sklearn.metrics import confusion_matrix\n",
        "import sklearn_crfsuite\n",
        "from sklearn_crfsuite import scorers\n",
        "from sklearn_crfsuite import metrics\n",
        "import nltk.stem.porter \n",
        "from nltk.stem.porter import *\n",
        "import string\n",
        "from nltk import ConfusionMatrix\n",
        "from itertools import chain\n",
        "import seaborn as sns\n",
        "\n",
        "%matplotlib inline\n",
        "import matplotlib.pyplot as plt\n",
        "plt.style.use('ggplot')"
      ],
      "execution_count": null,
      "outputs": []
    },
    {
      "cell_type": "code",
      "metadata": {
        "id": "JlKcyHJDBh0J"
      },
      "source": [
        "'''\n",
        "Reading data into data frame\n",
        "'''\n",
        "df_train = pd.read_csv('train.txt', sep=\" \",header=None)\n",
        "df_test = pd.read_csv('test.txt', sep=\" \",header=None)"
      ],
      "execution_count": null,
      "outputs": []
    },
    {
      "cell_type": "code",
      "metadata": {
        "id": "Asfpvga6Bh0S"
      },
      "source": [
        "'''\n",
        "Initial pre-processing\n",
        "'''\n",
        "df_train[2] = df_train[2].str.split(\"-\", n = 1, expand = True) \n",
        "df_test[2]  = df_test[2].str.split(\"-\", n = 1, expand = True)"
      ],
      "execution_count": null,
      "outputs": []
    },
    {
      "cell_type": "code",
      "metadata": {
        "id": "jdHc03J-Bh0h"
      },
      "source": [
        "'''\n",
        "Reading data into data frame\n",
        "'''\n",
        "df_train = pd.read_csv('train.txt', sep=\" \",header=None,skip_blank_lines=False, names=['word','POS_tag','Chunk_tag'])\n",
        "df_test = pd.read_csv('test.txt', sep=\" \",header=None,skip_blank_lines=False, names=['word','POS_tag','Chunk_tag'])"
      ],
      "execution_count": null,
      "outputs": []
    },
    {
      "cell_type": "code",
      "metadata": {
        "id": "AG-zS0wRBh0m"
      },
      "source": [
        "'''\n",
        "Initial pre-processing\n",
        "'''\n",
        "df_train['Chunk_tag'] = df_train['Chunk_tag'].str.split(\"-\", n = 1, expand = True) \n",
        "df_test['Chunk_tag']  = df_test['Chunk_tag'].str.split(\"-\", n = 1, expand = True) "
      ],
      "execution_count": null,
      "outputs": []
    },
    {
      "cell_type": "code",
      "metadata": {
        "id": "ztuIyu8UBh0v"
      },
      "source": [
        "'''\n",
        "Adding extra row for train sentences for ease of processing\n",
        "'''\n",
        "df_train = pd.concat([pd.DataFrame([['EOS','EOS','O']],columns=df_train.columns),df_train],ignore_index=True)\n",
        "\n",
        "\n",
        "'''\n",
        "Adding extra row for train sentences for ease of processing\n",
        "'''\n",
        "df_test = pd.concat([pd.DataFrame([['EOS','EOS','O']],columns=df_test.columns),df_test],ignore_index=True)"
      ],
      "execution_count": null,
      "outputs": []
    },
    {
      "cell_type": "code",
      "metadata": {
        "id": "NG5QijpGBh00"
      },
      "source": [
        "'''\n",
        "Utility functions\n",
        "'''\n",
        "stemmer = PorterStemmer()\n",
        "\n",
        "def return_affix(word):\n",
        "    word = word.lower()\n",
        "    stem_word = stemmer.stem(word)          \n",
        "    affix=word.split(stem_word)[-1]\n",
        "    return affix\n",
        "\n",
        "def is_capitalised(word):\n",
        "    return word[0].upper() == word[0]\n",
        "\n",
        "def all_capital(word):\n",
        "    return word.upper() == word\n",
        "\n",
        "def all_lower(word):\n",
        "    return word.lower() == word"
      ],
      "execution_count": null,
      "outputs": []
    },
    {
      "cell_type": "code",
      "metadata": {
        "id": "OI-XUU-WBh04"
      },
      "source": [
        "'''\n",
        "Generating features for CRF\n",
        "'''\n",
        "\n",
        "df_train['prev_POS']= df_train['POS_tag'].shift(1)\n",
        "df_train['prev_prev_POS']= df_train['POS_tag'].shift(2)\n",
        "df_train['prev_word']= df_train['word'].shift(1)\n",
        "df_train['next_word'] = df_train['word'].shift(-1)\n",
        "df_train['next_POS']= df_train['POS_tag'].shift(-1)\n",
        "df_train['next_next_POS']= df_train['POS_tag'].shift(-2)\n",
        "df_train['Chunk_tag'] = df_train['Chunk_tag'].fillna('O')\n",
        "df_train['is_lower'] = (df_train['word'].str).islower()\n",
        "df_train = df_train.fillna('EOS')\n",
        "\n",
        "df_train['stemmed_word'] = df_train['word'].apply(stemmer.stem)\n",
        "df_train['all_capital'] = df_train['word'].apply(all_capital)\n",
        "df_train['all_lower'] = df_train['word'].apply(all_lower)\n",
        "df_train['is_Capitalised'] = df_train['word'].apply(is_capitalised)\n",
        "df_train['word_affix'] = df_train['word'].apply(return_affix)\n"
      ],
      "execution_count": null,
      "outputs": []
    },
    {
      "cell_type": "code",
      "metadata": {
        "id": "P4PJTsHgBh08"
      },
      "source": [
        "'''\n",
        "Seggregating train data into X and Y\n",
        "'''\n",
        "\n",
        "df_X_train = df_train.drop(columns='Chunk_tag')\n",
        "df_Y_train = df_train['Chunk_tag']"
      ],
      "execution_count": null,
      "outputs": []
    },
    {
      "cell_type": "code",
      "metadata": {
        "id": "eEelxpDRBh1F",
        "outputId": "b3027a49-336c-45c9-9807-36e6476c24f0"
      },
      "source": [
        "dict_X =df_X_train.to_dict('records')\n",
        "dict_X = [[i] for i in dict_X]\n",
        "print(len(dict_X))\n",
        "print(dict_X[0])"
      ],
      "execution_count": null,
      "outputs": [
        {
          "output_type": "stream",
          "text": [
            "220664\n",
            "[{'word': 'EOS', 'POS_tag': 'EOS', 'prev_POS': 'EOS', 'prev_prev_POS': 'EOS', 'prev_word': 'EOS', 'next_word': 'Confidence', 'next_POS': 'NN', 'next_next_POS': 'IN', 'is_lower': False, 'stemmed_word': 'eo', 'all_capital': True, 'all_lower': False, 'is_Capitalised': True, 'word_affix': 's'}]\n"
          ],
          "name": "stdout"
        }
      ]
    },
    {
      "cell_type": "code",
      "metadata": {
        "scrolled": true,
        "id": "3faepuDRBh1K",
        "outputId": "6684a07a-9e93-41a6-f5ef-18deec3f40de"
      },
      "source": [
        "'''\n",
        "CRF Training\n",
        "'''\n",
        "Y_train = [[label] for label in df_train['Chunk_tag']]\n",
        "print(len(Y_train))\n",
        "print(Y_train[0:2])\n",
        "crf = sklearn_crfsuite.CRF(\n",
        "    algorithm='lbfgs',\n",
        "    max_iterations=1000,\n",
        "    all_possible_transitions=True\n",
        ")\n",
        "\n",
        "params_space = {\n",
        "    'c1': scipy.stats.expon(scale=0.5),\n",
        "    'c2': scipy.stats.expon(scale=0.05),\n",
        "}\n",
        "\n",
        "# use the same metric for evaluation\n",
        "f1_scorer = make_scorer(metrics.flat_f1_score,\n",
        "                        average='weighted', labels=['B', 'I', 'O'])\n",
        "\n",
        "# search\n",
        "rs = RandomizedSearchCV(crf, params_space,\n",
        "                        cv=5,\n",
        "                        verbose=1,\n",
        "                        n_jobs=-1,\n",
        "                        n_iter=50,\n",
        "                        scoring=f1_scorer)\n",
        "rs.fit(dict_X, Y_train)\n",
        "\n",
        "#crf.fit(dict_X, Y_train)\n"
      ],
      "execution_count": null,
      "outputs": [
        {
          "output_type": "stream",
          "text": [
            "220664\n",
            "[['O'], ['B']]\n",
            "Fitting 5 folds for each of 50 candidates, totalling 250 fits\n"
          ],
          "name": "stdout"
        },
        {
          "output_type": "stream",
          "text": [
            "[Parallel(n_jobs=-1)]: Using backend LokyBackend with 8 concurrent workers.\n",
            "[Parallel(n_jobs=-1)]: Done  34 tasks      | elapsed: 15.6min\n",
            "[Parallel(n_jobs=-1)]: Done 184 tasks      | elapsed: 75.5min\n",
            "[Parallel(n_jobs=-1)]: Done 250 out of 250 | elapsed: 101.1min finished\n"
          ],
          "name": "stderr"
        },
        {
          "output_type": "execute_result",
          "data": {
            "text/plain": [
              "RandomizedSearchCV(cv=5, error_score='raise-deprecating',\n",
              "          estimator=CRF(algorithm='lbfgs', all_possible_states=None,\n",
              "  all_possible_transitions=True, averaging=None, c=None, c1=None, c2=None,\n",
              "  calibration_candidates=None, calibration_eta=None,\n",
              "  calibration_max_trials=None, calibration_rate=None,\n",
              "  calibration_samples=None, delta=None, epsilon=None, error...e,\n",
              "  num_memories=None, pa_type=None, period=None, trainer_cls=None,\n",
              "  variance=None, verbose=False),\n",
              "          fit_params=None, iid='warn', n_iter=50, n_jobs=-1,\n",
              "          param_distributions={'c1': <scipy.stats._distn_infrastructure.rv_frozen object at 0x00000201E8324278>, 'c2': <scipy.stats._distn_infrastructure.rv_frozen object at 0x00000201830CD128>},\n",
              "          pre_dispatch='2*n_jobs', random_state=None, refit=True,\n",
              "          return_train_score='warn',\n",
              "          scoring=make_scorer(flat_f1_score, average=weighted, labels=['B', 'I', 'O']),\n",
              "          verbose=1)"
            ]
          },
          "metadata": {
            "tags": []
          },
          "execution_count": 84
        }
      ]
    },
    {
      "cell_type": "code",
      "metadata": {
        "id": "knZM1m4HBh1N",
        "outputId": "5f097d89-0da5-4fd1-90c4-6f4bfa412bb6"
      },
      "source": [
        "print('best params:', rs.best_params_)\n",
        "print('best CV score:', rs.best_score_)\n",
        "print('model size: {:0.2f}M'.format(rs.best_estimator_.size_ / 1000000))"
      ],
      "execution_count": null,
      "outputs": [
        {
          "output_type": "stream",
          "text": [
            "best params: {'c1': 0.6974565434489933, 'c2': 0.04899556712152492}\n",
            "best CV score: 0.9500828912681624\n",
            "model size: 0.83M\n"
          ],
          "name": "stdout"
        }
      ]
    },
    {
      "cell_type": "code",
      "metadata": {
        "id": "oiRQuIXpBh1R"
      },
      "source": [
        "'''\n",
        "Generating features for CRF\n",
        "'''\n",
        "\n",
        "df_test['prev_POS']= df_test['POS_tag'].shift(1)\n",
        "df_test['prev_prev_POS']= df_test['POS_tag'].shift(2)\n",
        "df_test['prev_word']= df_test['word'].shift(1)\n",
        "df_test['next_word'] = df_test['word'].shift(-1)\n",
        "df_test['next_POS']= df_test['POS_tag'].shift(-1)\n",
        "df_test['next_next_POS']= df_test['POS_tag'].shift(-2)\n",
        "df_test['Chunk_tag'] = df_test['Chunk_tag'].fillna('O')\n",
        "df_test['is_lower'] = (df_test['word'].str).islower()\n",
        "df_test = df_test.fillna('EOS')\n",
        "df_test['stemmed_word'] = df_test['word'].apply(stemmer.stem)\n",
        "df_test['all_capital'] = df_test['word'].apply(all_capital)\n",
        "df_test['all_lower'] = df_test['word'].apply(all_lower)\n",
        "df_test['is_Capitalised'] = df_test['word'].apply(is_capitalised)\n",
        "df_test['word_affix'] = df_test['word'].apply(return_affix)\n",
        "df_test = df_test.fillna('EOS')"
      ],
      "execution_count": null,
      "outputs": []
    },
    {
      "cell_type": "code",
      "metadata": {
        "id": "WbYDePi3Bh1U",
        "outputId": "f995993a-83ba-40e2-db2f-1e7a1e0a97cb"
      },
      "source": [
        "df_X_test = df_test.drop(columns='Chunk_tag')\n",
        "df_Y_test = df_test['Chunk_tag']\n",
        "print(df_Y_test)"
      ],
      "execution_count": null,
      "outputs": [
        {
          "output_type": "stream",
          "text": [
            "0        O\n",
            "1        B\n",
            "2        I\n",
            "3        I\n",
            "4        B\n",
            "        ..\n",
            "49385    B\n",
            "49386    B\n",
            "49387    I\n",
            "49388    O\n",
            "49389    O\n",
            "Name: Chunk_tag, Length: 49390, dtype: object\n"
          ],
          "name": "stdout"
        }
      ]
    },
    {
      "cell_type": "code",
      "metadata": {
        "id": "yn7Nm3FTBh1X",
        "outputId": "f9abc77b-a951-4fd7-c7ab-75833fc3e087"
      },
      "source": [
        "dict_X_test =df_X_test.to_dict('records')\n",
        "dict_X_test = [[i] for i in dict_X_test]\n",
        "print(len(dict_X_test))\n",
        "print(dict_X_test[0])"
      ],
      "execution_count": null,
      "outputs": [
        {
          "output_type": "stream",
          "text": [
            "49390\n",
            "[{'word': 'EOS', 'POS_tag': 'EOS', 'prev_POS': 'EOS', 'prev_prev_POS': 'EOS', 'prev_word': 'EOS', 'next_word': 'Rockwell', 'next_POS': 'NNP', 'next_next_POS': 'NNP', 'is_lower': False, 'stemmed_word': 'eo', 'all_capital': True, 'all_lower': False, 'is_Capitalised': True, 'word_affix': 's'}]\n"
          ],
          "name": "stdout"
        }
      ]
    },
    {
      "cell_type": "code",
      "metadata": {
        "id": "gA6K4E3wBh1b"
      },
      "source": [
        "'''\n",
        "Make predictions\n",
        "'''\n",
        "Y_test = [[i] for i in df_Y_test]\n",
        "crf = rs.best_estimator_\n",
        "y_pred = crf.predict(dict_X_test)"
      ],
      "execution_count": null,
      "outputs": []
    },
    {
      "cell_type": "code",
      "metadata": {
        "id": "x8_vYGEEBh1j",
        "outputId": "bb6e8564-ceb2-475b-b554-642f83e22cdc"
      },
      "source": [
        "'''\n",
        "F1 score\n",
        "'''\n",
        "metrics.flat_f1_score(Y_test, y_pred,\n",
        "                      average='weighted', labels=['B', 'I', 'O'])"
      ],
      "execution_count": null,
      "outputs": [
        {
          "output_type": "execute_result",
          "data": {
            "text/plain": [
              "0.9520377871280409"
            ]
          },
          "metadata": {
            "tags": []
          },
          "execution_count": 92
        }
      ]
    },
    {
      "cell_type": "code",
      "metadata": {
        "id": "TS5XWzPnBh1m",
        "outputId": "d194642c-a4af-49e5-c537-047a6dd60f9b"
      },
      "source": [
        "'''\n",
        "Calculating precision,recall and f1-score for each individual tag\n",
        "'''\n",
        "sorted_labels = sorted(\n",
        "    ['B','I','O'],\n",
        "    key=lambda name: (name[1:], name[0])\n",
        ")\n",
        "print(metrics.flat_classification_report(\n",
        "    Y_test, y_pred, labels=sorted_labels, digits=3\n",
        "))"
      ],
      "execution_count": null,
      "outputs": [
        {
          "output_type": "stream",
          "text": [
            "              precision    recall  f1-score   support\n",
            "\n",
            "           B      0.960     0.957     0.959     23852\n",
            "           I      0.936     0.937     0.937     17345\n",
            "           O      0.963     0.968     0.966      8193\n",
            "\n",
            "   micro avg      0.952     0.952     0.952     49390\n",
            "   macro avg      0.953     0.954     0.954     49390\n",
            "weighted avg      0.952     0.952     0.952     49390\n",
            "\n"
          ],
          "name": "stdout"
        }
      ]
    },
    {
      "cell_type": "code",
      "metadata": {
        "id": "2qBu73N2Bh1w",
        "outputId": "122bbd9e-f7ff-4688-e978-40718defe9fc"
      },
      "source": [
        "'''\n",
        "Printing confusion matrix\n",
        "'''\n",
        "cf_matrix = confusion_matrix(list(chain.from_iterable(Y_test)) ,list(chain.from_iterable(y_pred)))\n",
        "print(cf_matrix)\n",
        "print(sns.heatmap(cf_matrix/np.sum(cf_matrix), annot=True, xticklabels=['B', 'I','O'], yticklabels=['B','I','O'], \n",
        "            fmt='.2%', cmap='Blues'))\n"
      ],
      "execution_count": null,
      "outputs": [
        {
          "output_type": "stream",
          "text": [
            "[[22831   955    66]\n",
            " [  849 16258   238]\n",
            " [  102   159  7932]]\n",
            "AxesSubplot(0.125,0.125;0.62x0.755)\n"
          ],
          "name": "stdout"
        },
        {
          "output_type": "display_data",
          "data": {
            "image/png": "[encoded data removed]",
            "text/plain": [
              "<Figure size 432x288 with 2 Axes>"
            ]
          },
          "metadata": {
            "tags": [],
            "needs_background": "light"
          }
        }
      ]
    },
    {
      "cell_type": "code",
      "metadata": {
        "id": "d3i7sDYGBh1y",
        "outputId": "e88785bc-72d1-4a49-b90f-230f494cae4f"
      },
      "source": [
        "print(sns.heatmap(cf_matrix, annot=True,xticklabels=['B', 'I','O'], yticklabels=['B','I','O'], \n",
        "            fmt=\"d\", cmap='Blues'))"
      ],
      "execution_count": null,
      "outputs": [
        {
          "output_type": "stream",
          "text": [
            "AxesSubplot(0.125,0.125;0.62x0.755)\n"
          ],
          "name": "stdout"
        },
        {
          "output_type": "display_data",
          "data": {
            "image/png": "[encoded data removed]",
            "text/plain": [
              "<Figure size 432x288 with 2 Axes>"
            ]
          },
          "metadata": {
            "tags": [],
            "needs_background": "light"
          }
        }
      ]
    },
    {
      "cell_type": "code",
      "metadata": {
        "id": "kAgClhasBh12",
        "outputId": "14c1b703-30af-4c91-dcb5-7a5935c81326"
      },
      "source": [
        "'''\n",
        "Overall Accuracy Calculation\n",
        "'''\n",
        "d ={'B':{'TP':0, 'FP':0, 'TN':0}, 'I':{'TP':0, 'FP':0, 'TN':0}, 'O':{'TP':0, 'FP':0, 'TN':0}}\n",
        "\n",
        "TP=0\n",
        "TN=0\n",
        "for i in range(len(Y_test)):\n",
        "    if(Y_test[i][0]==y_pred[i][0]):\n",
        "        d[Y_test[i][0]]['TP']+=1\n",
        "    else:\n",
        "        d[Y_test[i][0]]['TN']+=1\n",
        "        d[y_pred[i][0]]['FP']+=1\n",
        "        \n",
        "print(d) \n",
        "\n",
        "TP = 0\n",
        "FP = 0\n",
        "\n",
        "for tag in d.keys():\n",
        "    if (tag !='O'):\n",
        "        TP += d[tag]['TP']\n",
        "        FP += d[tag]['FP']\n",
        "        \n",
        "acc = TP/(TP+FP)\n",
        "print(\"Overall Accuracy\", acc)\n",
        "        \n"
      ],
      "execution_count": null,
      "outputs": [
        {
          "output_type": "stream",
          "text": [
            "{'B': {'TP': 22831, 'FP': 951, 'TN': 1021}, 'I': {'TP': 16258, 'FP': 1114, 'TN': 1087}, 'O': {'TP': 7932, 'FP': 304, 'TN': 261}}\n",
            "Overall Accuracy 0.9498226174855421\n"
          ],
          "name": "stdout"
        }
      ]
    },
    {
      "cell_type": "code",
      "metadata": {
        "id": "d17XduEwBh15"
      },
      "source": [
        ""
      ],
      "execution_count": null,
      "outputs": []
    }
  ]
}