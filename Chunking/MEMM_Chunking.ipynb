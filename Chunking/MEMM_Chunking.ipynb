{
 "cells": [
  {
   "cell_type": "code",
   "execution_count": 35,
   "metadata": {},
   "outputs": [
    {
     "name": "stderr",
     "output_type": "stream",
     "text": [
      "[nltk_data] Downloading package conll2000 to /home/ankita/nltk_data...\n",
      "[nltk_data]   Package conll2000 is already up-to-date!\n"
     ]
    }
   ],
   "source": [
    "import pandas as pd\n",
    "import numpy as np\n",
    "import nltk\n",
    "from nltk.corpus import conll2000\n",
    "nltk.download(\"conll2000\")\n",
    "import nltk.stem.porter \n",
    "from nltk.classify import MaxentClassifier\n",
    "import pickle\n",
    "from gensim.models import Word2Vec\n",
    "from collections import defaultdict\n",
    "from nltk import ConfusionMatrix\n",
    "from nltk.stem.porter import *\n",
    "import string\n",
    "from sklearn.metrics import confusion_matrix\n",
    "import seaborn as sns"
   ]
  },
  {
   "cell_type": "code",
   "execution_count": 2,
   "metadata": {},
   "outputs": [],
   "source": [
    "'''\n",
    "Suffix nomenclature(not used but helpful in testing for extra features)\n",
    "'''\n",
    "NOUN_SUFFIX =['eer','er','ion','ity','ment','ness','or','tion','ship','th']\n",
    "ADJ_SUFFIX = ['able','ible,','al','ant','ary','ful','ic','ious','ous','ive','less','y']\n",
    "VERB_SUFFIX = ['ed','en','er','ing','ise','ize']\n",
    "ADVERB_SUFFIX = ['ly','ward','wise']"
   ]
  },
  {
   "cell_type": "code",
   "execution_count": 3,
   "metadata": {},
   "outputs": [],
   "source": [
    "def check_suffix(word,suffix):\n",
    "    '''\n",
    "    Utility function to check if a string in the array passed is a suffix or not\n",
    "    '''\n",
    "    val = False\n",
    "    for s in suffix:\n",
    "        val = val or word.endswith(s)\n",
    "    return val\n",
    "\n",
    "def output_pos_suffix(word):\n",
    "    '''\n",
    "    Output predicted part of speech based on suffixes\n",
    "    '''\n",
    "    if check_suffix(word,NOUN_SUFFIX):\n",
    "        return \"Noun\"\n",
    "    elif check_suffix(word,ADJ_SUFFIX):\n",
    "        return \"Adj\"\n",
    "    elif check_suffix(word,VERB_SUFFIX):\n",
    "        return \"Verb\"\n",
    "    elif check_suffix(word,ADVERB_SUFFIX):\n",
    "        return \"Adverb\"\n",
    "    else: \n",
    "        return \"None\"\n",
    "    \n",
    "    \n",
    "stemmer = PorterStemmer()\n",
    "\n",
    "def return_affix(word):\n",
    "    word = word.lower()\n",
    "    stem_word = stemmer.stem(word)          \n",
    "    affix=word.split(stem_word)[-1]\n",
    "    return affix\n",
    "\n",
    "def is_capitalised(word):\n",
    "    return word[0].upper() == word[0]\n",
    "\n",
    "def all_capital(word):\n",
    "    return word.upper() == word\n",
    "\n",
    "def all_lower(word):\n",
    "    return word.lower() == word\n"
   ]
  },
  {
   "cell_type": "code",
   "execution_count": 4,
   "metadata": {},
   "outputs": [],
   "source": [
    "class MEMM_metrics():\n",
    "    \n",
    "    def __init__(self, test_actual_tags, test_predicted_tags):\n",
    "        '''\n",
    "        The test_actual_tags contains actual tags for the above setences.\n",
    "        The test_predicted_tags contains predicted tags for the test data.\n",
    "        '''\n",
    "        self.counter_dict = defaultdict(lambda: defaultdict(lambda:0))\n",
    "        self.test_actual_tags = test_actual_tags\n",
    "        self.test_predicted_tags = test_predicted_tags\n",
    "        self.tag_metrics = defaultdict(lambda: defaultdict(lambda:0))\n",
    "            \n",
    "    def calc_tag_metrics(self):\n",
    "        '''\n",
    "        Calculate the per-POS accuracy for all the tags in the tag-set\n",
    "        '''\n",
    "        counter_dict = defaultdict(lambda: defaultdict(lambda:0))\n",
    "        \n",
    "        for i in range(len(self.test_actual_tags)):\n",
    "            \n",
    "            if(self.test_actual_tags[i] == self.test_predicted_tags[i]):\n",
    "                counter_dict[self.test_actual_tags[i]]['TP'] += 1\n",
    "            else:\n",
    "                counter_dict[self.test_actual_tags[i]]['FN']    += 1\n",
    "                counter_dict[self.test_predicted_tags[i]]['FP'] += 1\n",
    "        \n",
    "        \n",
    "        for tag in counter_dict.keys():\n",
    "            try:\n",
    "                self.tag_metrics[tag]['Precision'] = counter_dict[tag]['TP']/(counter_dict[tag]['TP']+counter_dict[tag]['FP'])\n",
    "                self.tag_metrics[tag]['Recall'] = counter_dict[tag]['TP']/(counter_dict[tag]['TP']+counter_dict[tag]['FN'])\n",
    "                self.tag_metrics[tag]['F1_score'] = 2*(self.tag_metrics[tag]['Precision']*self.tag_metrics[tag]['Recall'])/(self.tag_metrics[tag]['Precision']+self.tag_metrics[tag]['Recall'])\n",
    "\n",
    "            except ZeroDivisionError:\n",
    "                continue               \n",
    "        self.counter_dict =  counter_dict\n",
    "        \n",
    "    def generate_confusion_matrix(self):\n",
    "        '''\n",
    "        Generate confusion matrix for the particular fold\n",
    "        '''\n",
    "        CM = ConfusionMatrix(self.test_actual_tags ,self.test_predicted_tags)\n",
    "        print(CM)\n",
    "        \n",
    "    def accuracy(self):\n",
    "        '''\n",
    "        Calculate average accuracy score\n",
    "        '''\n",
    "        TP =0\n",
    "        FP =0\n",
    "        for tag in self.counter_dict.keys():\n",
    "            if (tag !='O'):\n",
    "                TP += self.counter_dict[tag]['TP']\n",
    "                FP += self.counter_dict[tag]['FP']\n",
    "        \n",
    "        return TP/(TP+FP)\n",
    "        \n",
    "        \n",
    "    def print_sample(self):\n",
    "        '''\n",
    "        Prints a sample of n = 5 actual and predicted tagged sentences for reference\n",
    "        '''\n",
    "        for i in range(5):\n",
    "            print(\"Actual :\",self.test_actual_tags[i])\n",
    "            print(\"Predicted :\",self.test_predicted_tags[i])\n",
    "        \n",
    "    def get_tag_metrics(self):\n",
    "        '''\n",
    "        Prints the per POS precision,recall and F1 score of predicted tags\n",
    "        '''\n",
    "        \n",
    "        print (\"{:<10} {:<10} {:<10} {:<10}\".format('TAG', 'PRECISION', 'RECALL','F1_SCORE'))\n",
    "        \n",
    "        for key in self.tag_metrics.keys():\n",
    "            precision = str(round(self.tag_metrics[key]['Precision'], 2))\n",
    "            recall    = str(round(self.tag_metrics[key]['Recall'], 2))\n",
    "            F1_score  = str(round(self.tag_metrics[key]['F1_score'], 2))\n",
    "            print (\"{:<10} {:<10} {:<10} {:<10} \".format(key, precision,recall,F1_score))"
   ]
  },
  {
   "cell_type": "code",
   "execution_count": 5,
   "metadata": {},
   "outputs": [],
   "source": [
    "'''\n",
    "Reading data into data frame\n",
    "'''\n",
    "df_train = pd.read_csv('train.txt', sep=\" \",header=None,skip_blank_lines=False, names=['word','POS_tag','Chunk_tag'])\n",
    "df_test = pd.read_csv('test.txt', sep=\" \",header=None,skip_blank_lines=False, names=['word','POS_tag','Chunk_tag'])"
   ]
  },
  {
   "cell_type": "code",
   "execution_count": 6,
   "metadata": {},
   "outputs": [],
   "source": [
    "'''\n",
    "Initial pre-processing\n",
    "'''\n",
    "df_train['Chunk_tag'] = df_train['Chunk_tag'].str.split(\"-\", n = 1, expand = True) \n",
    "df_test['Chunk_tag']  = df_test['Chunk_tag'].str.split(\"-\", n = 1, expand = True) "
   ]
  },
  {
   "cell_type": "code",
   "execution_count": 7,
   "metadata": {},
   "outputs": [],
   "source": [
    "'''\n",
    "Adding extra row for train sentences for ease of processing\n",
    "'''\n",
    "df_train = pd.concat([pd.DataFrame([['EOS','EOS','O']],columns=df_train.columns),df_train],ignore_index=True)\n"
   ]
  },
  {
   "cell_type": "code",
   "execution_count": 9,
   "metadata": {},
   "outputs": [],
   "source": [
    "'''\n",
    "Generating features for MEMM\n",
    "'''\n",
    "\n",
    "df_train['prev_POS']= df_train['POS_tag'].shift(1)\n",
    "df_train['prev_prev_POS']= df_train['POS_tag'].shift(2)\n",
    "df_train['prev_word']= df_train['word'].shift(1)\n",
    "df_train['prev_chunk_tag']= df_train['Chunk_tag'].shift(1)\n",
    "df_train['prev_chunk_tag'] = df_train['prev_chunk_tag'].fillna('O')\n",
    "df_train['Chunk_tag'] = df_train['Chunk_tag'].fillna('O')\n",
    "df_train['next_POS']= df_train['POS_tag'].shift(-1)\n",
    "df_train['next_next_POS']= df_train['POS_tag'].shift(-2)\n",
    "df_train['stemmed_word'] = df_train['word'].apply(stemmer.stem)\n",
    "df_train['all_capital'] = df_train['word'].apply(all_capital)\n",
    "df_train['word_affix'] = df_train['word'].apply(return_affix)\n",
    "df_train = df_train.fillna('EOS')"
   ]
  },
  {
   "cell_type": "code",
   "execution_count": 12,
   "metadata": {},
   "outputs": [],
   "source": [
    "'''\n",
    "Seggregating train data into X and Y\n",
    "'''\n",
    "\n",
    "df_X_train = df_train.drop(columns='Chunk_tag')\n",
    "df_Y_train = df_train['Chunk_tag']\n",
    "\n",
    "df_X_train.head(60)\n",
    "#df_Y_train"
   ]
  },
  {
   "cell_type": "code",
   "execution_count": 14,
   "metadata": {},
   "outputs": [
    {
     "name": "stdout",
     "output_type": "stream",
     "text": [
      "  ==> Training (60 iterations)\n",
      "\n",
      "      Iteration    Log Likelihood    Accuracy\n",
      "      ---------------------------------------\n",
      "             1          -1.09861        0.167\n",
      "             2          -0.43251        0.913\n",
      "             3          -0.28038        0.937\n",
      "             4          -0.21754        0.941\n",
      "             5          -0.18416        0.944\n",
      "             6          -0.16356        0.946\n",
      "             7          -0.14955        0.948\n",
      "             8          -0.13933        0.950\n",
      "             9          -0.13151        0.951\n",
      "            10          -0.12528        0.953\n",
      "            11          -0.12016        0.954\n",
      "            12          -0.11586        0.955\n",
      "            13          -0.11217        0.956\n",
      "            14          -0.10896        0.957\n",
      "            15          -0.10613        0.958\n",
      "            16          -0.10360        0.959\n",
      "            17          -0.10133        0.959\n",
      "            18          -0.09926        0.960\n",
      "            19          -0.09737        0.961\n",
      "            20          -0.09564        0.961\n",
      "            21          -0.09404        0.962\n",
      "            22          -0.09255        0.963\n",
      "            23          -0.09116        0.963\n",
      "            24          -0.08987        0.964\n",
      "            25          -0.08865        0.964\n",
      "            26          -0.08751        0.964\n",
      "            27          -0.08643        0.965\n",
      "            28          -0.08541        0.965\n",
      "            29          -0.08444        0.965\n",
      "            30          -0.08353        0.966\n",
      "            31          -0.08266        0.966\n",
      "            32          -0.08183        0.966\n",
      "            33          -0.08103        0.966\n",
      "            34          -0.08028        0.967\n",
      "            35          -0.07955        0.967\n",
      "            36          -0.07886        0.967\n",
      "            37          -0.07820        0.967\n",
      "            38          -0.07756        0.967\n",
      "            39          -0.07694        0.968\n",
      "            40          -0.07635        0.968\n",
      "            41          -0.07578        0.968\n",
      "            42          -0.07524        0.968\n",
      "            43          -0.07471        0.968\n",
      "            44          -0.07420        0.969\n",
      "            45          -0.07370        0.969\n",
      "            46          -0.07322        0.969\n",
      "            47          -0.07276        0.969\n",
      "            48          -0.07231        0.969\n",
      "            49          -0.07188        0.969\n",
      "            50          -0.07146        0.969\n",
      "            51          -0.07105        0.969\n",
      "            52          -0.07065        0.969\n",
      "            53          -0.07027        0.970\n",
      "            54          -0.06989        0.970\n",
      "            55          -0.06953        0.970\n",
      "            56          -0.06917        0.970\n",
      "            57          -0.06883        0.970\n",
      "            58          -0.06849        0.970\n",
      "            59          -0.06817        0.970\n",
      "         Final          -0.06785        0.970\n"
     ]
    }
   ],
   "source": [
    "'''\n",
    "Training the MEMM Classifier on the set of features\n",
    "'''\n",
    "dic =df_X_train.to_dict('records')\n",
    "feat =  [(dic[i],df_Y_train[i])for i in range(len(dic))]\n",
    "maxent_classifier = MaxentClassifier.train(feat, max_iter=60)"
   ]
  },
  {
   "cell_type": "code",
   "execution_count": 15,
   "metadata": {},
   "outputs": [],
   "source": [
    "'''\n",
    "Dividing the test dataframe to a list of dataframes for each sentence \n",
    "'''\n",
    "idx = [-1]+ df_test.index[df_test.isnull().all(1)].tolist() + [df_test.shape[0]]\n",
    "list_of_test_dfs = [df_test.iloc[idx[n]+1:idx[n+1]] for n in range(len(idx)-1)]"
   ]
  },
  {
   "cell_type": "code",
   "execution_count": 16,
   "metadata": {},
   "outputs": [],
   "source": [
    "'''\n",
    "Adding relevent features as done in train and seggregating data (X) and Chunk tag (Y) values \n",
    "'''\n",
    "test_sent_X =[]\n",
    "test_sent_Y =[]\n",
    "for dfz in list_of_test_dfs:\n",
    "    dfk = pd.concat([pd.DataFrame([['EOS','EOS','O']],columns=dfz.columns),dfz],ignore_index=True)\n",
    "    dfk = dfk.append(pd.DataFrame(([['EOS','EOS','O']]),columns=dfk.columns),ignore_index=True)\n",
    "    dfk['prev_POS']= dfk['POS_tag'].shift(1)\n",
    "    dfk['prev_prev_POS']= dfk['POS_tag'].shift(2)\n",
    "    dfk['prev_word']= dfk['word'].shift(1)\n",
    "    dfk['stemmed_word'] = dfk['word'].apply(stemmer.stem)\n",
    "    dfk['word_affix'] = dfk['word'].apply(return_affix)\n",
    "    dfk['all_capital'] = dfk['word'].apply(all_capital)\n",
    "    dfk['next_POS']= dfk['POS_tag'].shift(-1)\n",
    "    dfk['next_next_POS']= dfk['POS_tag'].shift(-2)\n",
    "    dfk = dfk.fillna('EOS')\n",
    "    df_test_X = dfk.drop(columns='Chunk_tag')\n",
    "    df_test_Y= dfk['Chunk_tag']\n",
    "    test_sent_X.append(df_test_X)\n",
    "    test_sent_Y.append(df_test_Y)"
   ]
  },
  {
   "cell_type": "code",
   "execution_count": 18,
   "metadata": {},
   "outputs": [],
   "source": [
    "def viterbi_one_pass(test_sent):\n",
    "        '''\n",
    "        Viterbi Algorithm applied to one sentence and corresponding states\n",
    "        Modified from HMM POS \n",
    "        '''\n",
    "        prob_state ={}\n",
    "        sent_dict = test_sent.to_dict('records') #Converting test_Sent dataframe to dictionary\n",
    "        initial_prob_added =  False\n",
    "        # Storing initial probabilities for start of sentences first\n",
    "        \n",
    "        possible_tags = ['B','I','O']\n",
    "        prob_state[1] = {}\n",
    "        for tag in possible_tags:\n",
    "            try:\n",
    "                sent_dict[1]['prev_chunk_tag']='O'\n",
    "                prob = maxent_classifier.prob_classify(sent_dict[1])\n",
    "                if(tag=='I'):\n",
    "                    prob_state[1][tag] = ['O',0]\n",
    "                else:\n",
    "                    prob_state[1][tag] = ['O',float(prob.prob(tag))]\n",
    "            except KeyError: \n",
    "                print(\"error\")\n",
    "                                \n",
    "        # Iterating through the rest of the sentence\n",
    "        max_in_current_level =0\n",
    "        for k in range(2,len(sent_dict)):\n",
    "            prob_state[k] = {}\n",
    "            prev_state  = list(prob_state[k-1].keys()) \n",
    "            curr_state  =  ['B','I','O']\n",
    "            for tag in curr_state:                             \n",
    "                all_states = []\n",
    "                for pt in prev_state: \n",
    "                    sent_dict[k]['prev_chunk_tag']= prev_state[max_in_current_level]\n",
    "                    prob = maxent_classifier.prob_classify(sent_dict[k])\n",
    "                    if(tag == 'I') and (pt == 'O'):\n",
    "                        all_states.append((prob_state[k-1][pt][1])*0.0000000001)\n",
    "                    else:\n",
    "                        all_states.append((prob_state[k-1][pt][1])*float(prob.prob(tag)))\n",
    "                max_in_current_level = all_states.index(max(all_states))\n",
    "                prob_state[k][tag]=[prev_state[max_in_current_level],max(all_states)] #Stores the index as well as the tag seq with max probability\n",
    "                \n",
    "                \n",
    "        # Back tracing to get the predicted tag sequence\n",
    "        \n",
    "        tags = ['O']\n",
    "        for itr in reversed(range(len(sent_dict))):\n",
    "            if(itr>0):\n",
    "                tags.append(prob_state[itr][tags[len(tags)-1]][0])\n",
    "        \n",
    "        tag_list = list(reversed(tags))\n",
    "        return tag_list"
   ]
  },
  {
   "cell_type": "code",
   "execution_count": 19,
   "metadata": {},
   "outputs": [],
   "source": [
    "'''\n",
    "Test on one sentence\n",
    "'''\n",
    "k = viterbi_one_pass(test_sent_X[5])"
   ]
  },
  {
   "cell_type": "code",
   "execution_count": 28,
   "metadata": {},
   "outputs": [],
   "source": [
    "def viterbi(test_sequence):\n",
    "    '''\n",
    "    Viterbi Algorithm applied on test data\n",
    "    '''\n",
    "    predicted_tags = []\n",
    "    predicted_tags_list =[]\n",
    "    for i in range(len(test_sequence)):\n",
    "        tag_seq = viterbi_one_pass(test_sequence[i])\n",
    "        predicted_tags_list.append(tag_seq)\n",
    "        predicted_tags.extend(tag_seq)\n",
    "    return predicted_tags,predicted_tags_list"
   ]
  },
  {
   "cell_type": "code",
   "execution_count": 29,
   "metadata": {},
   "outputs": [],
   "source": [
    "'''\n",
    "Applying viterbi algorithm to get the predicted tags & \n",
    "Setting the actual tags in a proper format\n",
    "'''\n",
    "predicted_tags,predicted_tags_list = viterbi(test_sent_X)\n",
    "actual_tags = []\n",
    "for data in test_sent_Y:\n",
    "    actual = data.values.tolist()\n",
    "    actual_tags.extend(actual)"
   ]
  },
  {
   "cell_type": "code",
   "execution_count": 23,
   "metadata": {},
   "outputs": [
    {
     "name": "stdout",
     "output_type": "stream",
     "text": [
      "TAG        PRECISION  RECALL     F1_SCORE  \n",
      "O          0.97       0.97       0.97       \n",
      "B          0.95       0.95       0.95       \n",
      "I          0.93       0.93       0.93       \n",
      "  |     B     I     O |\n",
      "--+-------------------+\n",
      "B |<22737> 1043    72 |\n",
      "I |  1052<16056>  237 |\n",
      "O |    98   209 <9899>|\n",
      "--+-------------------+\n",
      "(row = reference; col = test)\n",
      "\n"
     ]
    },
    {
     "data": {
      "text/plain": [
       "94.16919529069062"
      ]
     },
     "execution_count": 23,
     "metadata": {},
     "output_type": "execute_result"
    }
   ],
   "source": [
    "'''\n",
    "Calculating Tag metrics\n",
    "'''\n",
    "metrics = MEMM_metrics(actual_tags,predicted_tags)\n",
    "metrics.calc_tag_metrics()\n",
    "metrics.get_tag_metrics()\n",
    "metrics.generate_confusion_matrix()\n",
    "metrics.accuracy()*100"
   ]
  },
  {
   "cell_type": "code",
   "execution_count": 34,
   "metadata": {},
   "outputs": [
    {
     "name": "stdout",
     "output_type": "stream",
     "text": [
      "AxesSubplot(0.125,0.125;0.62x0.755)\n"
     ]
    },
    {
     "data": {
      "image/png": "[encoded data removed]",
      "text/plain": [
       "<Figure size 432x288 with 2 Axes>"
      ]
     },
     "metadata": {
      "needs_background": "light"
     },
     "output_type": "display_data"
    }
   ],
   "source": [
    "'''\n",
    "Heap map output\n",
    "'''\n",
    "\n",
    "cf_matrix = confusion_matrix(actual_tags,predicted_tags)\n",
    "#print(sns.heatmap(cf_matrix/np.sum(cf_matrix),xticklabels=['B', 'I','O'], yticklabels=['B','I','O'], annot=True,fmt='.2%', cmap='Blues'))\n",
    "print(sns.heatmap(cf_matrix, annot=True,xticklabels=['B', 'I','O'], yticklabels=['B','I','O'],fmt=\"d\", cmap='Blues'))"
   ]
  },
  {
   "cell_type": "code",
   "execution_count": 30,
   "metadata": {},
   "outputs": [],
   "source": [
    "'''\n",
    "Dumping the data for further analysis\n",
    "'''\n",
    "\n",
    "import pickle\n",
    "\n",
    "with open('MEMM_actual_tags.pkl', 'wb') as f:\n",
    "    pickle.dump(actual_tags, f)\n",
    "    \n",
    "with open('MEMM_predicted_tags.pkl', 'wb') as f:\n",
    "    pickle.dump(predicted_tags, f)  \n",
    "    \n",
    "with open('MEMM_test_X.pkl', 'wb') as f:\n",
    "    pickle.dump(test_sent_X, f)\n",
    "    \n",
    "with open('MEMM_test_Y.pkl', 'wb') as f:\n",
    "    pickle.dump(test_sent_Y, f)\n",
    "    \n",
    "with open('MEMM_test_Y_pred.pkl', 'wb') as f:\n",
    "    pickle.dump(predicted_tags_list, f)   \n"
   ]
  }
 ],
 "metadata": {
  "kernelspec": {
   "display_name": "Python 3",
   "language": "python",
   "name": "python3"
  },
  "language_info": {
   "codemirror_mode": {
    "name": "ipython",
    "version": 3
   },
   "file_extension": ".py",
   "mimetype": "text/x-python",
   "name": "python",
   "nbconvert_exporter": "python",
   "pygments_lexer": "ipython3",
   "version": "3.6.9"
  }
 },
 "nbformat": 4,
 "nbformat_minor": 4
}
